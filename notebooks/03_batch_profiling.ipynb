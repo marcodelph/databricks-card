{
 "cells": [
  {
   "cell_type": "code",
   "execution_count": 0,
   "metadata": {
    "application/vnd.databricks.v1+cell": {
     "cellMetadata": {
      "byteLimit": 2048000,
      "rowLimit": 10000
     },
     "inputWidgets": {},
     "nuid": "69258cef-eb1f-45c4-befc-eb03ec34e53f",
     "showTitle": false,
     "tableResultSettingsMap": {},
     "title": ""
    }
   },
   "outputs": [],
   "source": [
    "from pyspark.sql.functions import col, avg, stddev, count\n",
    "\n",
    "# Nomes das nossas tabelas\n",
    "raw_table = \"default.raw_transactions\"\n",
    "core_table = \"default.user_behavior_profiles\"\n",
    "\n",
    "raw_df = spark.read.table(raw_table)"
   ]
  },
  {
   "cell_type": "code",
   "execution_count": 0,
   "metadata": {
    "application/vnd.databricks.v1+cell": {
     "cellMetadata": {
      "byteLimit": 2048000,
      "rowLimit": 10000
     },
     "inputWidgets": {},
     "nuid": "85d23325-14eb-4e06-a49c-f84a740b7c3c",
     "showTitle": false,
     "tableResultSettingsMap": {},
     "title": ""
    }
   },
   "outputs": [],
   "source": [
    "# Calculando as métricas de perfil para cada usuário\n",
    "user_profiles_df = raw_df.groupBy(\"user_id\").agg(\n",
    "    avg(\"amount_brl\").alias(\"avg_amount\"),\n",
    "    stddev(\"amount_brl\").alias(\"stddev_amount\"),\n",
    "    count(\"transaction_id\").alias(\"transaction_count\")\n",
    ")\n",
    "\n",
    "user_profiles_df = user_profiles_df.na.fill(0.0, subset=[\"stddev_amount\"]) # Caso de 1 transação \n",
    "display(user_profiles_df)"
   ]
  },
  {
   "cell_type": "code",
   "execution_count": 0,
   "metadata": {
    "application/vnd.databricks.v1+cell": {
     "cellMetadata": {
      "byteLimit": 2048000,
      "rowLimit": 10000
     },
     "inputWidgets": {},
     "nuid": "efe561cd-a408-40f4-bfc1-3093feb4b749",
     "showTitle": false,
     "tableResultSettingsMap": {},
     "title": ""
    }
   },
   "outputs": [],
   "source": [
    "from delta.tables import *\n",
    "\n",
    "if spark.catalog.tableExists(core_table):\n",
    "    print(f\"Tabela '{core_table}' encontrada. Executando MERGE...\")\n",
    "    \n",
    "    delta_table = DeltaTable.forName(spark, core_table)\n",
    "\n",
    "    # Executando a operação MERGE (UPSERT)\n",
    "    delta_table.alias(\"target\") \\\n",
    "      .merge(\n",
    "        user_profiles_df.alias(\"source\"),\n",
    "        \"target.user_id = source.user_id\"\n",
    "      ) \\\n",
    "      .whenMatchedUpdateAll() \\\n",
    "      .whenNotMatchedInsertAll() \\\n",
    "      .execute()\n",
    "    \n",
    "    print(f\"MERGE concluído com sucesso para a tabela '{core_table}'.\")\n",
    "\n",
    "else:\n",
    "    # Se não existir, cria a tabela\n",
    "    print(f\"Tabela '{core_table}' não encontrada. Criando a tabela\")\n",
    "    user_profiles_df.write.format(\"delta\").saveAsTable(core_table)\n",
    "    \n",
    "    print(f\"Tabela '{core_table}' criada com sucesso.\")"
   ]
  },
  {
   "cell_type": "code",
   "execution_count": 0,
   "metadata": {
    "application/vnd.databricks.v1+cell": {
     "cellMetadata": {
      "byteLimit": 2048000,
      "implicitDf": true,
      "rowLimit": 10000
     },
     "inputWidgets": {},
     "nuid": "cad7d858-9e2b-4e2b-ae25-0b2b52d15c49",
     "showTitle": false,
     "tableResultSettingsMap": {},
     "title": ""
    }
   },
   "outputs": [],
   "source": [
    "%sql SELECT * FROM default.user_behavior_profiles"
   ]
  },
  {
   "cell_type": "code",
   "execution_count": 0,
   "metadata": {
    "application/vnd.databricks.v1+cell": {
     "cellMetadata": {
      "byteLimit": 2048000,
      "implicitDf": true,
      "rowLimit": 10000
     },
     "inputWidgets": {},
     "nuid": "a6e63c1a-f6c5-4a8f-ab31-06113710a7eb",
     "showTitle": false,
     "tableResultSettingsMap": {},
     "title": ""
    }
   },
   "outputs": [],
   "source": [
    "%sql\n",
    "DESCRIBE HISTORY default.user_behavior_profiles"
   ]
  }
 ],
 "metadata": {
  "application/vnd.databricks.v1+notebook": {
   "computePreferences": null,
   "dashboards": [],
   "environmentMetadata": {
    "base_environment": "",
    "environment_version": "2"
   },
   "inputWidgetPreferences": null,
   "language": "python",
   "notebookMetadata": {
    "mostRecentlyExecutedCommandWithImplicitDF": {
     "commandId": 4997488566643877,
     "dataframes": [
      "_sqldf"
     ]
    },
    "pythonIndentUnit": 4
   },
   "notebookName": "03_batch_profiling",
   "widgets": {}
  },
  "language_info": {
   "name": "python"
  }
 },
 "nbformat": 4,
 "nbformat_minor": 0
}
