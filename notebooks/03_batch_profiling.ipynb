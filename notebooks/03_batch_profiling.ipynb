{
 "cells": [
  {
   "cell_type": "code",
   "execution_count": 0,
   "metadata": {
    "application/vnd.databricks.v1+cell": {
     "cellMetadata": {
      "byteLimit": 2048000,
      "rowLimit": 10000
     },
     "inputWidgets": {},
     "nuid": "69258cef-eb1f-45c4-befc-eb03ec34e53f",
     "showTitle": false,
     "tableResultSettingsMap": {},
     "title": ""
    }
   },
   "outputs": [],
   "source": [
    "from pyspark.sql.functions import col, avg, stddev, count, lag, unix_timestamp\n",
    "from pyspark.sql.window import Window\n",
    "from delta.tables import *\n",
    "\n",
    "# Tabelas\n",
    "raw_table = \"default.raw_transactions\"\n",
    "core_table = \"default.user_behavior_profiles\"\n",
    "\n",
    "raw_df = spark.read.table(raw_table)"
   ]
  },
  {
   "cell_type": "code",
   "execution_count": 0,
   "metadata": {
    "application/vnd.databricks.v1+cell": {
     "cellMetadata": {
      "byteLimit": 2048000,
      "rowLimit": 10000
     },
     "inputWidgets": {},
     "nuid": "85d23325-14eb-4e06-a49c-f84a740b7c3c",
     "showTitle": false,
     "tableResultSettingsMap": {},
     "title": ""
    }
   },
   "outputs": [],
   "source": [
    "\n",
    "windowSpec = Window.partitionBy(\"user_id\").orderBy(\"timestamp_utc\")\n",
    "\n",
    "df_with_previous_tx = raw_df.withColumn(\n",
    "    \"previous_timestamp\", lag(\"timestamp_utc\", 1).over(windowSpec)\n",
    ")\n",
    "\n",
    "df_with_time_diff = df_with_previous_tx.withColumn(\n",
    "    \"time_since_last_tx_sec\",\n",
    "    unix_timestamp(col(\"timestamp_utc\").cast(\"timestamp\")) - unix_timestamp(col(\"previous_timestamp\").cast(\"timestamp\"))\n",
    ")\n",
    "\n",
    "display(df_with_time_diff.filter(\"user_id = 2002\"))"
   ]
  },
  {
   "cell_type": "code",
   "execution_count": 0,
   "metadata": {
    "application/vnd.databricks.v1+cell": {
     "cellMetadata": {
      "byteLimit": 2048000,
      "rowLimit": 10000
     },
     "inputWidgets": {},
     "nuid": "efe561cd-a408-40f4-bfc1-3093feb4b749",
     "showTitle": false,
     "tableResultSettingsMap": {},
     "title": ""
    }
   },
   "outputs": [],
   "source": [
    "user_profiles_df = df_with_time_diff.groupBy(\"user_id\").agg(\n",
    "    avg(\"amount_brl\").alias(\"avg_amount\"),\n",
    "    stddev(\"amount_brl\").alias(\"stddev_amount\"),\n",
    "    count(\"transaction_id\").alias(\"transaction_count\"),\n",
    "    avg(\"time_since_last_tx_sec\").alias(\"avg_time_between_tx_sec\")\n",
    ")\n",
    "user_profiles_df = user_profiles_df.na.fill(0.0, subset=[\"stddev_amount\"]) # Tratando nulos no desvio padrão\n",
    "\n",
    "display(user_profiles_df)"
   ]
  },
  {
   "cell_type": "code",
   "execution_count": 0,
   "metadata": {
    "application/vnd.databricks.v1+cell": {
     "cellMetadata": {
      "byteLimit": 2048000,
      "rowLimit": 10000
     },
     "inputWidgets": {},
     "nuid": "e20c1026-fff9-474f-a8ee-d14c7ce6dedf",
     "showTitle": false,
     "tableResultSettingsMap": {},
     "title": ""
    }
   },
   "outputs": [],
   "source": [
    "print(f\"Salvando perfis atualizados na tabela '{core_table}'...\")\n",
    "\n",
    "user_profiles_df.write \\\n",
    "    .mode(\"overwrite\") \\\n",
    "    .option(\"overwriteSchema\", \"true\") \\\n",
    "    .saveAsTable(core_table)\n",
    "\n",
    "print(f\"Tabela de perfis '{core_table}' atualizada com sucesso.\")"
   ]
  },
  {
   "cell_type": "code",
   "execution_count": 0,
   "metadata": {
    "application/vnd.databricks.v1+cell": {
     "cellMetadata": {
      "byteLimit": 2048000,
      "implicitDf": true,
      "rowLimit": 10000
     },
     "inputWidgets": {},
     "nuid": "cad7d858-9e2b-4e2b-ae25-0b2b52d15c49",
     "showTitle": false,
     "tableResultSettingsMap": {},
     "title": ""
    }
   },
   "outputs": [],
   "source": [
    "%sql SELECT * FROM default.user_behavior_profiles"
   ]
  }
 ],
 "metadata": {
  "application/vnd.databricks.v1+notebook": {
   "computePreferences": null,
   "dashboards": [],
   "environmentMetadata": {
    "base_environment": "",
    "environment_version": "2"
   },
   "inputWidgetPreferences": null,
   "language": "python",
   "notebookMetadata": {
    "mostRecentlyExecutedCommandWithImplicitDF": {
     "commandId": 8564186567377808,
     "dataframes": [
      "_sqldf"
     ]
    },
    "pythonIndentUnit": 4
   },
   "notebookName": "03_batch_profiling",
   "widgets": {}
  },
  "language_info": {
   "name": "python"
  }
 },
 "nbformat": 4,
 "nbformat_minor": 0
}
