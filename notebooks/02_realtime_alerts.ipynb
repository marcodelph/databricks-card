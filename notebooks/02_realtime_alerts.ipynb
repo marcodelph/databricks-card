{
 "cells": [
  {
   "cell_type": "code",
   "execution_count": 0,
   "metadata": {
    "application/vnd.databricks.v1+cell": {
     "cellMetadata": {
      "byteLimit": 2048000,
      "rowLimit": 10000
     },
     "inputWidgets": {},
     "nuid": "73e8bffe-f6b4-474c-8680-5f24c2befecd",
     "showTitle": false,
     "tableResultSettingsMap": {},
     "title": ""
    }
   },
   "outputs": [],
   "source": [
    "from pyspark.sql.functions import col, current_timestamp\n",
    "\n",
    "# Tabelas\n",
    "raw_table = \"default.raw_transactions\"\n",
    "core_table = \"default.user_behavior_profiles\"\n",
    "analytics_table = \"default.real_time_alerts\"\n",
    "\n",
    "# Caminho para o checkpoint deste stream específico diferente do checkpoint da ingestão\n",
    "storage_account_name = \"adlshydra\"\n",
    "checkpoint_path = f\"abfss://raw@{storage_account_name}.dfs.core.windows.net/checkpoint_alerts\""
   ]
  },
  {
   "cell_type": "code",
   "execution_count": 0,
   "metadata": {
    "application/vnd.databricks.v1+cell": {
     "cellMetadata": {
      "byteLimit": 2048000,
      "rowLimit": 10000
     },
     "inputWidgets": {},
     "nuid": "0935a948-3889-4a3f-aae2-ec72f1b8a1ba",
     "showTitle": false,
     "tableResultSettingsMap": {},
     "title": ""
    }
   },
   "outputs": [],
   "source": [
    "transactions_stream_df = spark.readStream.table(raw_table)\n",
    "profiles_df = spark.read.table(core_table)"
   ]
  },
  {
   "cell_type": "code",
   "execution_count": 0,
   "metadata": {
    "application/vnd.databricks.v1+cell": {
     "cellMetadata": {
      "byteLimit": 2048000,
      "rowLimit": 10000
     },
     "inputWidgets": {},
     "nuid": "7d00e3fa-37ea-491c-95fd-dde5da3e66eb",
     "showTitle": false,
     "tableResultSettingsMap": {},
     "title": ""
    }
   },
   "outputs": [],
   "source": [
    "enriched_stream_df = transactions_stream_df.join(\n",
    "    profiles_df,\n",
    "    on=\"user_id\",\n",
    "    how=\"inner\" \n",
    ")"
   ]
  },
  {
   "cell_type": "code",
   "execution_count": 0,
   "metadata": {
    "application/vnd.databricks.v1+cell": {
     "cellMetadata": {
      "byteLimit": 2048000,
      "rowLimit": 10000
     },
     "inputWidgets": {},
     "nuid": "14b22c55-19cf-48dc-a0ab-473403b40142",
     "showTitle": false,
     "tableResultSettingsMap": {},
     "title": ""
    }
   },
   "outputs": [],
   "source": [
    "# Sensibildiade pra detecção\n",
    "N_STD_DEVS = 2\n",
    "\n",
    "alerts_df = enriched_stream_df.filter(\n",
    "    col(\"amount_brl\") > (col(\"avg_amount\") + N_STD_DEVS * col(\"stddev_amount\"))\n",
    ").withColumn(\"alert_timestamp\", current_timestamp())\n",
    "\n",
    "# Escrevendo os alertas na Analytics\n",
    "alerts_stream_query = alerts_df.writeStream \\\n",
    "    .format(\"delta\") \\\n",
    "    .outputMode(\"append\") \\\n",
    "    .option(\"checkpointLocation\", checkpoint_path) \\\n",
    "    .option(\"mergeSchema\", \"true\") \\\n",
    "    .trigger(availableNow=True) \\\n",
    "    .toTable(analytics_table)"
   ]
  },
  {
   "cell_type": "code",
   "execution_count": 0,
   "metadata": {
    "application/vnd.databricks.v1+cell": {
     "cellMetadata": {
      "byteLimit": 2048000,
      "implicitDf": true,
      "rowLimit": 10000
     },
     "inputWidgets": {},
     "nuid": "9f5747f5-e67d-4a9d-acf3-baa007cd2853",
     "showTitle": false,
     "tableResultSettingsMap": {},
     "title": ""
    }
   },
   "outputs": [],
   "source": [
    "%sql\n",
    "SELECT * FROM default.real_time_alerts"
   ]
  },
  {
   "cell_type": "code",
   "execution_count": 0,
   "metadata": {
    "application/vnd.databricks.v1+cell": {
     "cellMetadata": {},
     "inputWidgets": {},
     "nuid": "400de55e-ad75-4804-a5bf-9ac97a656594",
     "showTitle": false,
     "tableResultSettingsMap": {},
     "title": ""
    }
   },
   "outputs": [],
   "source": [
    "# Célula de Limpeza (execute apenas uma vez para resetar o stream)\n",
    "#checkpoint_to_clear = \"abfss://raw@adlshydra.dfs.core.windows.net/checkpoint_alerts\"\n",
    "#dbutils.fs.rm(checkpoint_to_clear, recurse=True)\n",
    "# print(f\"Checkpoint de alertas em '{checkpoint_to_clear}' foi removido com sucesso.\")"
   ]
  }
 ],
 "metadata": {
  "application/vnd.databricks.v1+notebook": {
   "computePreferences": null,
   "dashboards": [],
   "environmentMetadata": {
    "base_environment": "",
    "environment_version": "2"
   },
   "inputWidgetPreferences": null,
   "language": "python",
   "notebookMetadata": {
    "mostRecentlyExecutedCommandWithImplicitDF": {
     "commandId": 8039040980153992,
     "dataframes": [
      "_sqldf"
     ]
    },
    "pythonIndentUnit": 4
   },
   "notebookName": "02_realtime_alerts",
   "widgets": {}
  },
  "language_info": {
   "name": "python"
  }
 },
 "nbformat": 4,
 "nbformat_minor": 0
}
