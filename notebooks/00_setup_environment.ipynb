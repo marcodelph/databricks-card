{
 "cells": [
  {
   "cell_type": "code",
   "execution_count": 0,
   "metadata": {
    "application/vnd.databricks.v1+cell": {
     "cellMetadata": {
      "byteLimit": 2048000,
      "implicitDf": true,
      "rowLimit": 10000
     },
     "inputWidgets": {},
     "nuid": "574836f7-114d-476f-9146-341510bd2022",
     "showTitle": false,
     "tableResultSettingsMap": {},
     "title": ""
    }
   },
   "outputs": [],
   "source": [
    "%sql\n",
    "\n",
    "USE CATALOG hive_metastore; \n",
    "USE default;\n",
    "\n",
    "CREATE TABLE IF NOT EXISTS raw_transactions\n",
    "USING DELTA\n",
    "LOCATION 'abfss://raw@adlshydra.dfs.core.windows.net/raw_transactions';\n",
    "\n",
    "CREATE TABLE IF NOT EXISTS user_behavior_profiles\n",
    "USING DELTA\n",
    "LOCATION 'abfss://core@adlshydra.dfs.core.windows.net/user_behavior_profiles';\n",
    "\n",
    "CREATE TABLE IF NOT EXISTS real_time_alerts\n",
    "USING DELTA\n",
    "LOCATION 'abfss://analytics@adlshydra.dfs.core.windows.net/real_time_alerts';"
   ]
  },
  {
   "cell_type": "code",
   "execution_count": 0,
   "metadata": {
    "application/vnd.databricks.v1+cell": {
     "cellMetadata": {
      "byteLimit": 2048000,
      "implicitDf": true,
      "rowLimit": 10000
     },
     "inputWidgets": {},
     "nuid": "9dbf38b6-8b05-4f0f-8627-05fe57136508",
     "showTitle": false,
     "tableResultSettingsMap": {},
     "title": ""
    }
   },
   "outputs": [],
   "source": [
    "%sql\n",
    "SHOW TABLES IN default"
   ]
  },
  {
   "cell_type": "code",
   "execution_count": 0,
   "metadata": {
    "application/vnd.databricks.v1+cell": {
     "cellMetadata": {
      "byteLimit": 2048000,
      "implicitDf": true,
      "rowLimit": 10000
     },
     "inputWidgets": {},
     "nuid": "11700303-391e-42c6-9f4d-8278d92b782e",
     "showTitle": false,
     "tableResultSettingsMap": {},
     "title": ""
    }
   },
   "outputs": [],
   "source": [
    "%sql\n",
    "DROP TABLE IF EXISTS default.raw_transactions;\n",
    "DROP TABLE IF EXISTS default.user_behavior_profiles;\n",
    "DROP TABLE IF EXISTS default.real_time_alerts;"
   ]
  }
 ],
 "metadata": {
  "application/vnd.databricks.v1+notebook": {
   "computePreferences": null,
   "dashboards": [],
   "environmentMetadata": {
    "base_environment": "",
    "environment_version": "2"
   },
   "inputWidgetPreferences": null,
   "language": "python",
   "notebookMetadata": {
    "mostRecentlyExecutedCommandWithImplicitDF": {
     "commandId": 8039040980153985,
     "dataframes": [
      "_sqldf"
     ]
    },
    "pythonIndentUnit": 4
   },
   "notebookName": "00_setup_environment",
   "widgets": {}
  },
  "language_info": {
   "name": "python"
  }
 },
 "nbformat": 4,
 "nbformat_minor": 0
}
