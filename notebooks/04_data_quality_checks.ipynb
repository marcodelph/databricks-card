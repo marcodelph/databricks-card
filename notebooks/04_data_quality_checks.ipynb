{
 "cells": [
  {
   "cell_type": "code",
   "execution_count": 0,
   "metadata": {
    "application/vnd.databricks.v1+cell": {
     "cellMetadata": {},
     "inputWidgets": {},
     "nuid": "3a9478f3-fd23-4689-a112-7b3b55b1ca2f",
     "showTitle": false,
     "tableResultSettingsMap": {},
     "title": ""
    }
   },
   "outputs": [],
   "source": [
    "alerts_df = spark.read.table(\"default.real_time_alerts\")\n",
    "profiles_df = spark.read.table(\"default.user_behavior_profiles\")"
   ]
  },
  {
   "cell_type": "code",
   "execution_count": 0,
   "metadata": {
    "application/vnd.databricks.v1+cell": {
     "cellMetadata": {},
     "inputWidgets": {},
     "nuid": "b01f5303-9a2c-42a1-98fb-3f6688637b7e",
     "showTitle": false,
     "tableResultSettingsMap": {},
     "title": ""
    }
   },
   "outputs": [],
   "source": [
    "print(\"Iniciando testes de qualidade...\")\n",
    "# TESTE 1: A chave primária da tabela de perfis (user_id) deve ser única.\n",
    "assert profiles_df.select(\"user_id\").distinct().count() == profiles_df.count(), \"ERRO DE QUALIDADE: user_id não é único na tabela de perfis.\"\n",
    "print(\" Passou no teste de uid único\")\n",
    "\n",
    "# TESTE 2: Os valores de alerta devem ser sempre positivos.\n",
    "assert alerts_df.filter(\"amount_brl <= 0\").count() == 0, \"ERRO DE QUALIDADE: Encontrado alerta com valor negativo ou zero.\"\n",
    "print(\" Passou no teste de valores negativos\")\n",
    "\n",
    "# TESTE 3: Nenhum perfil de usuário deve ter um desvio padrão negativo.\n",
    "assert profiles_df.filter(\"stddev_amount < 0\").count() == 0, \"ERRO DE QUALIDADE: Encontrado desvio padrão negativo nos perfis.\"\n",
    "print(\"Passou no teste de desvio padrão negativo\")"
   ]
  }
 ],
 "metadata": {
  "application/vnd.databricks.v1+notebook": {
   "computePreferences": null,
   "dashboards": [],
   "environmentMetadata": {
    "base_environment": "",
    "environment_version": "2"
   },
   "inputWidgetPreferences": null,
   "language": "python",
   "notebookMetadata": {
    "pythonIndentUnit": 4
   },
   "notebookName": "04_data_quality_checks",
   "widgets": {}
  },
  "language_info": {
   "name": "python"
  }
 },
 "nbformat": 4,
 "nbformat_minor": 0
}
