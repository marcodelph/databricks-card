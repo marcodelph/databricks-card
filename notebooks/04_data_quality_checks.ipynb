{
 "cells": [
  {
   "cell_type": "code",
   "execution_count": 0,
   "metadata": {
    "application/vnd.databricks.v1+cell": {
     "cellMetadata": {
      "byteLimit": 2048000,
      "rowLimit": 10000
     },
     "inputWidgets": {},
     "nuid": "3a9478f3-fd23-4689-a112-7b3b55b1ca2f",
     "showTitle": false,
     "tableResultSettingsMap": {},
     "title": ""
    }
   },
   "outputs": [],
   "source": [
    "import os\n",
    "os.environ['SPARK_VERSION'] = '3.3'\n",
    "\n",
    "import pydeequ\n",
    "from pydeequ.checks import *\n",
    "from pydeequ.verification import *\n",
    "profiles_df = spark.read.table(\"default.user_behavior_profiles\")"
   ]
  },
  {
   "cell_type": "code",
   "execution_count": 0,
   "metadata": {
    "application/vnd.databricks.v1+cell": {
     "cellMetadata": {
      "byteLimit": 2048000,
      "rowLimit": 10000
     },
     "inputWidgets": {},
     "nuid": "b01f5303-9a2c-42a1-98fb-3f6688637b7e",
     "showTitle": false,
     "tableResultSettingsMap": {},
     "title": ""
    }
   },
   "outputs": [],
   "source": [
    "# Conjunto de testes\n",
    "check = Check(spark, CheckLevel.Error, \"Verificações de Qualidade da Tabela de Perfis\")\n",
    "\n",
    "verification_suite_result = VerificationSuite(spark) \\\n",
    "    .onData(profiles_df) \\\n",
    "    .addCheck(\n",
    "        check.isComplete(\"user_id\") \\\n",
    "             .isUnique(\"user_id\") \\\n",
    "             .isNonNegative(\"avg_amount\") \\\n",
    "             .isNonNegative(\"stddev_amount\") \\\n",
    "             .isNonNegative(\"transaction_count\") \\\n",
    "             .hasSize(lambda size: size > 0) # Garante que a tabela não está vazia\n",
    "    ) \\\n",
    "    .run()\n",
    "\n",
    "result_df = VerificationResult.checkResultsAsDataFrame(spark, verification_suite_result)\n",
    "\n",
    "display(result_df)"
   ]
  },
  {
   "cell_type": "code",
   "execution_count": 0,
   "metadata": {
    "application/vnd.databricks.v1+cell": {
     "cellMetadata": {
      "byteLimit": 2048000,
      "rowLimit": 10000
     },
     "inputWidgets": {},
     "nuid": "d831b0c9-92a9-4742-8af6-163b807a0555",
     "showTitle": false,
     "tableResultSettingsMap": {},
     "title": ""
    }
   },
   "outputs": [],
   "source": [
    "if verification_suite_result.status == \"Success\":\n",
    "    print(\"Todos os testes de qualidade de dados passaram com sucesso!\")\n",
    "else:\n",
    "    print(\"Falha nos testes de qualidade de dados. Verifique o resultado acima.\")\n",
    "    raise Exception(\"Pipeline de qualidade de dados falhou. Verifique os logs.\")"
   ]
  }
 ],
 "metadata": {
  "application/vnd.databricks.v1+notebook": {
   "computePreferences": null,
   "dashboards": [],
   "environmentMetadata": {
    "base_environment": "",
    "environment_version": "2"
   },
   "inputWidgetPreferences": null,
   "language": "python",
   "notebookMetadata": {
    "pythonIndentUnit": 4
   },
   "notebookName": "04_data_quality_checks",
   "widgets": {}
  },
  "language_info": {
   "name": "python"
  }
 },
 "nbformat": 4,
 "nbformat_minor": 0
}
