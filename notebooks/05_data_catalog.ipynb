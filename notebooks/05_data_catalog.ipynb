{
 "cells": [
  {
   "cell_type": "code",
   "execution_count": 0,
   "metadata": {
    "application/vnd.databricks.v1+cell": {
     "cellMetadata": {
      "byteLimit": 2048000,
      "implicitDf": true,
      "rowLimit": 10000
     },
     "inputWidgets": {},
     "nuid": "5de8462b-be62-4b92-8a95-f0fa9ae0fc7e",
     "showTitle": false,
     "tableResultSettingsMap": {},
     "title": ""
    }
   },
   "outputs": [],
   "source": [
    "%sql\n",
    "COMMENT ON TABLE default.real_time_alerts IS 'Tabela com as transações identificadas como anômalas pelo pipeline de streaming. Uma transação é considerada um alerta se o seu valor desvia significativamente (3 desvios padrão) do comportamento histórico do usuário.';"
   ]
  },
  {
   "cell_type": "code",
   "execution_count": 0,
   "metadata": {
    "application/vnd.databricks.v1+cell": {
     "cellMetadata": {
      "byteLimit": 2048000,
      "implicitDf": true,
      "rowLimit": 10000
     },
     "inputWidgets": {},
     "nuid": "2b74dd65-7854-4945-bc11-322374305066",
     "showTitle": false,
     "tableResultSettingsMap": {},
     "title": ""
    }
   },
   "outputs": [],
   "source": [
    "%sql\n",
    "ALTER TABLE default.real_time_alerts ALTER COLUMN avg_amount COMMENT 'Valor médio histórico de transação do usuário, calculado pelo job batch diário.';\n",
    "ALTER TABLE default.real_time_alerts ALTER COLUMN stddev_amount COMMENT 'Desvio padrão histórico do valor das transações do usuário, usado para calcular o limiar da anomalia.';\n",
    "ALTER TABLE default.real_time_alerts ALTER COLUMN alert_timestamp COMMENT 'Timestamp de quando o alerta foi processado e gerado pelo pipeline de streaming.';"
   ]
  }
 ],
 "metadata": {
  "application/vnd.databricks.v1+notebook": {
   "computePreferences": null,
   "dashboards": [],
   "environmentMetadata": {
    "base_environment": "",
    "environment_version": "2"
   },
   "inputWidgetPreferences": null,
   "language": "python",
   "notebookMetadata": {
    "mostRecentlyExecutedCommandWithImplicitDF": {
     "commandId": 8039040980154008,
     "dataframes": [
      "_sqldf"
     ]
    },
    "pythonIndentUnit": 4
   },
   "notebookName": "05_data_catalog",
   "widgets": {}
  },
  "language_info": {
   "name": "python"
  }
 },
 "nbformat": 4,
 "nbformat_minor": 0
}
